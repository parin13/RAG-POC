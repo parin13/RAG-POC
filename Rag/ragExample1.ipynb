{
 "cells": [
  {
   "cell_type": "code",
   "execution_count": 1,
   "metadata": {},
   "outputs": [
    {
     "data": {
      "text/plain": [
       "True"
      ]
     },
     "execution_count": 1,
     "metadata": {},
     "output_type": "execute_result"
    }
   ],
   "source": [
    "import os\n",
    "from dotenv import load_dotenv\n",
    "load_dotenv()\n"
   ]
  },
  {
   "cell_type": "code",
   "execution_count": 4,
   "metadata": {},
   "outputs": [
    {
     "name": "stdout",
     "output_type": "stream",
     "text": [
      "[Document(id_='0b0b6e10-f274-4553-a569-66d17f8ca66a', embedding=None, metadata={'page_label': '1', 'file_name': 'parishilan-cv.pdf', 'file_path': '/Users/parin/Documments_Local/work/ai-playground/ragLLm/Rag/pdfData/parishilan-cv.pdf', 'file_type': 'application/pdf', 'file_size': 282940, 'creation_date': '2025-03-14', 'last_modified_date': '2025-03-14'}, excluded_embed_metadata_keys=['file_name', 'file_type', 'file_size', 'creation_date', 'last_modified_date', 'last_accessed_date'], excluded_llm_metadata_keys=['file_name', 'file_type', 'file_size', 'creation_date', 'last_modified_date', 'last_accessed_date'], relationships={}, metadata_template='{key}: {value}', metadata_separator='\\n', text_resource=MediaResource(embeddings=None, data=None, text=\" \\nParishilan  Rayamajhi  \\nKathmandu,  Nepal,   44600  +977-9849336909    |   parishilanrayamajhi@gmail.com  |      https://www.linkedin.com/in/parishilan-rayamajhi-321a83b6/  \\n  Education  ______________________________________________________  Visvesvaraya  National  Institute  of  Technology  ( NIT )                                                                 Nagpur,  India  BACHELOR  OF  TECHNOLOGY  IN  COMPUTER  SCIENCE  AND  ENGINEERING                      2013  -  2017     \\nProfessional  Interest  ___________________________________________\\n \\nBlockchain  &  Cryptography  |  DeFi  &  Web3  Innovations   |  AI/ML  |  Payment  &  FinTech  Solutions    \\nSoft  Skills  ______________________________________________________  \\nLeadership  &  Team  Management  |  Communication  &  Collaboration|  Adaptability  &  Learning  Agility  \\nTechnical  Skillset  _______________________________________________  \\nProgramming  Language    Python  |  NodeJS  |  Go  |  Bash  |  C++  |  Java  Tools  and  Software     Kafka  |  RabbitMq  |  Git  |  LinuxOS  |  Nginx  |  Apache  |  Docker  |  MySQL  |  \\n \\n \\n \\n   \\nMongoDB\\n \\n|\\n \\nPostgreSQL\\n \\n|\\n \\nELK\\n \\n|\\n \\nAWS\\n \\n|\\n \\nGCP\\n \\n Blockchain                            Bitcoin  |  Ethereum  |  Solana   \\nAcademic  Projects______________________________________________  Honeypot-Based  Cyber  Threat  Intelligence:                                                                         BTech.  -  Major  Project      ●  Deploying  a  honeypot  system  paired  with  deception  tools  like  honeytokens  and  traffic  analysis,  \\naiming\\n \\nto\\n \\nlure,\\n \\nmonitor,\\n \\nand\\n \\ndissect\\n \\ncyber\\n \\nthreats. ●  Tools  Used:  Linux,  Cowrie,  Kippo,  OpenCanary,  Splunk   \\nMalware  Detection  Using  Blockchain:                                                                                   BTech.  -  Minor  Project \\n●  Utilize  blockchain's  immutability  and  decentralization  to  enhance  malware  detection,  ensuring  transparent  \\nthreat\\n \\nintelligence\\n \\nsharing\\n \\nand\\n \\nreal-time\\n \\nverification.\\n ●  Tools  Used:  Linux,  Hyperledger  Fabric,  MITRE  ATT&CK,  IPFS  \\nWork  Experience  ________________________________________________  \\nFOUNDER/CEO                                           JUN  2024  -  PRESENT   CRYPTOKTM                                                                                                                 Bangalore,  India \", path=None, url=None, mimetype=None), image_resource=None, audio_resource=None, video_resource=None, text_template='{metadata_str}\\n\\n{content}'), Document(id_='00504ca2-0c88-48fa-a29b-c2a76bc129b0', embedding=None, metadata={'page_label': '2', 'file_name': 'parishilan-cv.pdf', 'file_path': '/Users/parin/Documments_Local/work/ai-playground/ragLLm/Rag/pdfData/parishilan-cv.pdf', 'file_type': 'application/pdf', 'file_size': 282940, 'creation_date': '2025-03-14', 'last_modified_date': '2025-03-14'}, excluded_embed_metadata_keys=['file_name', 'file_type', 'file_size', 'creation_date', 'last_modified_date', 'last_accessed_date'], excluded_llm_metadata_keys=['file_name', 'file_type', 'file_size', 'creation_date', 'last_modified_date', 'last_accessed_date'], relationships={}, metadata_template='{key}: {value}', metadata_separator='\\n', text_resource=MediaResource(embeddings=None, data=None, text=' \\n●  Built  a  crypto  payment  gateway  processing  $980K+  in  transactions .  ●  Engineered  a  key  management  system  leveraging  mobile  secure  enclave ,  ensuring  self-custody  while  \\ncutting\\n \\ninfrastructure\\n \\ncosts\\n \\nby\\n \\n90%\\n.\\n \\n●  Optimized  gas  fees  and  transaction  signing  across  multiple  blockchain  networks  for  enhanced  efficiency.  ●  Investigated  the  $230M  WazirX  hack  (July  2024),  identified  a  wallet  access  flaw,  and  implemented  enhanced  \\nsecurity\\n \\nprotocols.\\n \\nBlockchain  Lead               Sept  2022  -  May   2024   Liminal  Custody                                                                                                               Singapore ●  Led  a  team  of  5  blockchain  developers ,  ensuring  best  practices  in  blockchain  security.  ●  Designed  and  implemented  Multi-Party  Computation  (MPC)  &  MultiSig  wallets  for  enhanced  crypto  asset  \\nsecurity.\\n ●  Oversaw  the  blockchain  ecosystem,  facilitating  processing  over  $6  billion  in  crypto  assets .   Sr.  Blockchain  Developer                                                                                                         July  2019  -  Sept  2022      Bitsbeat  IT  Solutions                                                                                                     Kathmandu,  Nepal ●  Delivered  three  blockchain  projects  spanning  ICO,  Crypto  Exchange,  and  DApp  for  security  tokens.  ●  Collaborated  with  the  Ethereum  core  team  on  the  Ethereum  PoW  to  PoS  migration.  \\n●  Contributed  to  a  fintech  application  for  a  major  bank  in  Nepal,  enhancing  financial  services  with  \\nblockchain\\n \\nbeing\\n \\nused\\n \\nby\\n \\n2\\n \\nmillion\\n \\nmerchants\\n \\nin\\n \\nNepal\\n \\nPart-time  Lecturer                                                                                                             August  2019  -  Dec   2019   KEC  College                                                                                                                           Kathmandu,  Nepal ●  Taught  7th-semester  CSE  students  an  elective  course  on  Python  and  R ,  providing  hands-on  experience  \\nwith\\n \\nreal-world\\n \\napplications.\\n \\n●  Designed  and  delivered  interactive  lab  sessions,  focusing  on  data  analytics,  machine  learning,  and  \\nstatistical\\n \\ncomputing\\n \\nusing\\n \\nPython\\n \\nand\\n \\nR.\\n \\n \\nBlockchain  Developer                                                                                                                  SEPT  2017  -  Jun  2019       Auxesis  Group                                                                                                                   Mumbai,  India  \\n●  Contributed  to  Auxledger,  a  scalable  blockchain  protocol  enabling  land  registries  and  identity  \\nmanagement\\n \\nfor\\n \\n60M+\\n \\nusers\\n \\nin\\n \\nIndia. ●  Designed  and  deployed  decentralized  applications  (DApps)  for  real-world  financial  and  enterprise  use  cases.  ●  Hands-on  experience  running  blockchain  nodes,  including  BTC,  ETH,  and  Solana.  \\nEngagements  ___________________________________________________  \\nStudent  Council:  NIT,  Nagpur                                                                                                              Nagpur,  India        sports  secretary                                                                                                                          2016-2017  ●  Led  the  organization  of  inter-college  sports  events  \\n●  Coordinated  with  faculty  and  administration  to  introduce  new  sports  activities. \\nNIT  Music  Club:  O c t a v e                                                                                                                         Nagpur,  India        ', path=None, url=None, mimetype=None), image_resource=None, audio_resource=None, video_resource=None, text_template='{metadata_str}\\n\\n{content}'), Document(id_='dc86faed-e625-4a98-a07b-29a2814b8053', embedding=None, metadata={'page_label': '3', 'file_name': 'parishilan-cv.pdf', 'file_path': '/Users/parin/Documments_Local/work/ai-playground/ragLLm/Rag/pdfData/parishilan-cv.pdf', 'file_type': 'application/pdf', 'file_size': 282940, 'creation_date': '2025-03-14', 'last_modified_date': '2025-03-14'}, excluded_embed_metadata_keys=['file_name', 'file_type', 'file_size', 'creation_date', 'last_modified_date', 'last_accessed_date'], excluded_llm_metadata_keys=['file_name', 'file_type', 'file_size', 'creation_date', 'last_modified_date', 'last_accessed_date'], relationships={}, metadata_template='{key}: {value}', metadata_separator='\\n', text_resource=MediaResource(embeddings=None, data=None, text=' \\nPRESIDENT                                                                                                                                 2016-2017  ●  Spearheaded  Club  operations,  organizing  musical  events  and  talent  showcases.  ●  Led  a  team  of  7  musicians  to  perform  at  college  fests  and  external  competitions.   TechFest:  A x i s                                                                                                                                          Nagpur,  India        Event  Organizer                                                                                                                             2016-2017  ●  Organized  technical  competitions,  hackathons,  and  workshops  for  5000+  participants  for  central  India’s  \\nlargest\\n \\ntech\\n \\nfest\\n ●  Collaborated  with  industry  experts  and  sponsors  to  introduce  innovative  event  formats.   Entrepreneurship  Club:  C o n s o r t i u m                                                                                                    Nagpur,  India        Event  Organizer                                                                                                                             2016-2017  ●  Organized  startup  pitch  events,  networking  sessions,  and  entrepreneurial  workshops.  ●  Mentored  students  on  business  model  development  and  fundraising  strategies.   Workshop  on  ‘Introduction  To  Blockchain’                                                                                  Kathmandu,  Nepal                                                                                                                                                                Aug  2024  Co-conducted  with  Ibriz  Team,  educating  participants  on  blockchain  ecosystems,  Sui  blockchain,  PoW/PoS  systems  (Bitcoin,  Ethereum),  smart  contracts,  DApps,  and  real-world  applications.   \\nSubject  Grader  at  Upgrad                                                                                                                      India        ●  Blockchain  Subject  Grader  at  Upgrade                                                                      July  2019-Aug  2020  ●  Assessed  blockchain  assignments,  provided  feedback  on  fundamentals,  smart  contracts,  and  security,  and  \\ncollaborated\\n \\nwith\\n \\ninstructors\\n \\nto\\n \\nrefine\\n \\ncurriculum.\\n \\nReferences  _____________________________________________________  \\nDr.  M.  P.  Kurhekar  \\nHead\\n \\nof\\n \\nDepartment\\n \\n|\\n \\nProfessor\\n \\nDepartment\\n \\nof\\n \\nComputer\\n \\nScience\\n \\nand\\n \\nEngineering\\n \\nVNIT,\\n \\nNagpur,\\n \\nIndia\\n manishkurhekar@cse.vnit.ac.in Relationship:  Direct  Student  and  Department  Head   (4th  Semester)  \\nMahin  Gupta  \\nFounder,\\n \\nCEO\\n \\nat\\n \\nLiminal\\n \\nCustody\\n \\n10\\n \\nAnson\\n \\nRoad,\\n \\nNumber\\n \\n05-01,\\n \\nInternational\\n \\nPlaza,\\n \\nSingapore\\n mahin@liminalcustody.com Relationship:  Reporting  Manager  during  my  tenure  in  Liminal  Custody  (2022-2024)  \\nDhiraj  Gandhi  \\nSoftware\\n \\nEngineer\\n \\nIII,\\n \\nGoogle\\n \\nAmphitheatre\\n \\nParkway,\\n \\nMountain\\n \\nView,\\n \\nCalifornia\\n dhirajdgandhi@google.com Relationship:  Former  College  Teammate  and  Btech  Major  Project  collaborator ', path=None, url=None, mimetype=None), image_resource=None, audio_resource=None, video_resource=None, text_template='{metadata_str}\\n\\n{content}'), Document(id_='5cc25e92-de85-47a3-a686-d8b0e16387b6', embedding=None, metadata={'page_label': '1', 'file_name': 'sop_temp.pdf', 'file_path': '/Users/parin/Documments_Local/work/ai-playground/ragLLm/Rag/pdfData/sop_temp.pdf', 'file_type': 'application/pdf', 'file_size': 49524, 'creation_date': '2025-03-14', 'last_modified_date': '2025-03-14'}, excluded_embed_metadata_keys=['file_name', 'file_type', 'file_size', 'creation_date', 'last_modified_date', 'last_accessed_date'], excluded_llm_metadata_keys=['file_name', 'file_type', 'file_size', 'creation_date', 'last_modified_date', 'last_accessed_date'], relationships={}, metadata_template='{key}: {value}', metadata_separator='\\n', text_resource=MediaResource(embeddings=None, data=None, text=\"Imagine  a  nation  where  the  absence  of  an  international  payment  gateway  traps  its  people  in  a  \\nfinancial\\n \\nparadox—relying\\n \\non\\n \\noffshore\\n \\nconnections\\n \\nto\\n \\nbuy\\n \\na\\n \\nUdemy\\n \\ncourse,\\n \\nbook\\n \\na\\n \\nGRE,\\n \\nor\\n \\neven\\n \\nstream\\n \\nNetflix.\\n \\nThis\\n \\nis\\n \\nmy\\n \\nreality\\n \\nin\\n \\nNepal,\\n \\nan\\n \\nunderdeveloped\\n \\nnation\\n \\nwith\\n \\nlimited\\n \\ninvestment\\n \\nin\\n \\ntechnical\\n \\ninnovation\\n \\noften\\n \\nleading\\n \\nto\\n \\npossible\\n \\ncyber\\n \\nattacks\\n \\nlike\\n \\ninfamous\\n \\nBangladesh\\n \\nBank\\n \\nHeist\\n \\n2016\\n \\nthat\\n \\ncould\\n \\nsweep\\n \\nentire\\n \\nnations'\\n \\neconomy\\n \\novernight.\\n \\nThis\\n \\nscorched\\n \\nmy\\n \\npassion\\n \\nfor\\n \\nleveraging\\n \\ntechnology\\n \\nto\\n \\ncreate\\n \\na\\n \\nsecure\\n \\nand\\n \\naccessible\\n \\nfinancial\\n \\nsystem.\\n \\nI\\n \\nwondered:\\n \\nCould\\n \\nblockchain\\n \\nand\\n \\nAI\\n  \\nrevolutionize\\n \\nglobal\\n \\npayments?\\n \\nHowever,\\n \\nthe\\n \\nquestion\\n \\nremains:\\n \\nIs\\n \\nblockchain\\n \\nreally\\n \\nsecure\\n \\neven\\n \\ntowards\\n \\nfuture\\n \\nquantum\\n \\nthreats?\\n \\nCould\\n \\nmachine\\n \\nlearning\\n \\ntrained\\n \\nover\\n \\na\\n \\nlarge\\n \\nset\\n \\nof\\n \\ndata\\n \\npredict\\n \\nand\\n \\nprevent\\n \\nsuch\\n \\ncyberattacks\\n \\nbeforehand?\\n \\nThese\\n \\nunsolved\\n \\nchallenges\\n \\nare\\n \\nat\\n \\nthe\\n \\ncore\\n \\nof\\n \\nwhy\\n \\nan\\n \\nMS\\n \\nin\\n \\nComputer\\n \\nScience\\n \\nat\\n \\n_________\\n \\nis\\n \\nthe\\n \\nideal\\n \\nnext\\n \\nstep\\n \\nin\\n \\nmy\\n \\njourney.\\n   Drawn  to  the  rapid  digitization  of  fintech  worldwide,  I  became  keenly  aware  of  how  computer  science  \\nwas\\n \\ndriving\\n \\nthis\\n \\ntransformation.\\n \\nThis\\n \\ninterest\\n \\nled\\n \\nme\\n \\nto\\n \\npursue\\n \\na\\n \\nBachelor's\\n \\ndegree\\n \\nin\\n \\nComputer\\n \\nScience\\n \\nat\\n \\nVisvesvaraya\\n \\nNational\\n \\nInstitute\\n \\nof\\n \\nTechnology,\\n \\none\\n \\nof\\n \\nIndia's\\n \\npremier\\n \\nengineering\\n \\ninstitutes,\\n \\nwhere\\n \\nI\\n \\nbuilt\\n \\na\\n \\nstrong\\n \\nfoundation\\n \\nin\\n \\nthe\\n \\nfield.\\n \\nCourses\\n \\nin\\n \\nAlgorithms,\\n \\nData\\n \\nStructures,\\n \\nNetwork\\n \\nSecurity,\\n \\nDecentralized\\n \\nSystems,\\n \\nStatistics,\\n \\nand\\n \\nDatabase\\n \\nManagement\\n \\nSystems\\n \\nhoned\\n \\nmy\\n \\nanalytical\\n \\nskills\\n \\nand\\n \\ndeepened\\n \\nmy\\n \\nunderstanding\\n \\nof\\n \\ncomplex\\n \\nsystems.\\n \\nFor\\n \\nmy\\n \\nthesis\\n \\nwork,\\n \\nI\\n \\ndeployed\\n \\na\\n \\nhoneypot\\n \\nsystem\\n \\nto\\n \\nanalyze\\n \\ncyber\\n \\nthreats,\\n \\nintegrating\\n \\nreal-time\\n \\ndata\\n \\nprocessing\\n \\nand\\n \\nsecurity\\n \\nprotocols.\\n \\nWith\\n \\na\\n \\nview\\n \\nof\\n \\nattackers'\\n \\ntechniques\\n \\nfirsthand,\\n \\nhelped\\n \\nme\\n \\ninvision\\n \\nsystem\\n \\nvulnerabilities\\n \\nand\\n \\nthe\\n \\nconstantly\\n \\nchanging\\n \\nlandscape\\n \\nof\\n \\ncybersecurity\\n \\nthreats.\\n \\nThis\\n \\nexperience\\n \\nalso\\n \\nbolstered\\n \\nmy\\n \\ninterest\\n \\nin\\n \\ndecentralized\\n \\nsystems,\\n \\nwhere\\n \\nsecurity\\n \\nisn't\\n \\njust\\n \\na\\n \\nfeature\\n \\nbut\\n \\na\\n \\nfundamental\\n \\nnecessity\\n \\nthat\\n \\nbecame\\n \\nthe\\n \\nfoundation\\n \\nof\\n \\nmy\\n \\nearly\\n \\ncareer.\\n   Professionally,  I  began  at  Auxesis  Group  in  Mumbai,  contributing  to  Auxledger,  a  blockchain  protocol  \\nfor\\n \\nenterprises\\n \\nand\\n \\ngovernments.\\n \\nWorking\\n \\non\\n \\ncore\\n \\nblockchain\\n \\nprotocols,\\n \\nI\\n \\ngrasped\\n \\nthe\\n \\nmechanics\\n \\nof\\n \\ndecentralized\\n \\nsystems—how\\n \\nconsensus\\n \\nalgorithms\\n \\nlike\\n \\nProof\\n \\nof\\n \\nWork\\n \\nensure\\n \\ntrust\\n \\nand\\n \\nhow\\n \\ncryptographic\\n \\ntechniques\\n \\nsecure\\n \\ndata\\n \\nintegrity.\\n \\nThis\\n \\ngave\\n \\nme\\n \\ninsight\\n \\non\\n \\nhow\\n \\nalgorithms\\n \\ndriving\\n \\nthese\\n \\nsystems\\n \\nare\\n \\nthe\\n \\nfoundation\\n \\nfor\\n \\ndeveloping\\n \\nany\\n \\ncomplex\\n \\ntechnology\\n \\nthat\\n \\nare\\n \\nself\\n \\nresilience.\\n With  a  strong  interest  in  the  payments  domain,  I  was  eager  to  understand  how  traditional  payment  \\nsystems\\n \\nfunction.\\n \\nThis\\n \\nled\\n \\nme\\n \\nto\\n \\njoin\\n \\nBitsbeat\\n \\nIT\\n \\nSolution,\\n \\nwhere\\n \\nI\\n \\nworked\\n \\non\\n \\nthe\\n \\nmerchant\\n \\npayment\\n \\ndomain\\n \\nfor\\n \\nGlobal\\n \\nIME\\n \\nBank's\\n \\nfintech\\n \\nsolution.\\n \\nThis\\n \\nexperience\\n \\ngave\\n \\nme\\n \\na\\n \\nground\\n \\nknowledge\\n \\nof\\n \\ntraditional\\n \\npayments\\n \\nand\\n \\nSWIFT\\n \\ntechnologies,\\n \\ndeepening\\n \\nmy\\n \\nunderstanding\\n \\nof\\n \\nthe\\n \\nglobal\\n \\nfinancial\\n \\nsystem.\\n \\nWith\\n \\na\\n \\nstrong\\n \\nfoundation\\n \\nin\\n \\nblockchain\\n \\ntechnology\\n \\nand\\n \\ntraditional\\n \\nfinancial\\n \\nsystems,\\n \\nI\\n \\nwas\\n \\nintrigued\\n \\nby\\n \\nthe\\n \\npossibility\\n \\nof\\n \\nblockchain\\n \\nredefining\\n \\nglobal\\n \\npayments.\\n \\nTo\\n \\nbetter\\n \\nunderstand\\n \\nhow\\n \\ninstitutions\\n \\nwere\\n \\nintegrating\\n \\ncryptocurrencies\\n \\nand\\n \\nwhether\\n \\nthey\\n \\ncould\\n \\nserve\\n \\nas\\n \\na\\n \\nviable\\n \\nalternative\\n \\nto\\n \\ntraditional\\n \\nfinance.\\n \\nI\\n \\nsought\\n \\nfirsthand\\n \\nexperience\\n \\nin\\n \\nlarge-scale\\n \\ncrypto-based\\n \\nsolutions.\\n \\nThis\\n \\npursuit\\n \\nled\\n \\nme\\n \\nto\\n \\njoin\\n \\na\\n \\nSingapore\\n \\nbased\\n \\ncompany,\\n \\nLiminal\\n \\nCustody,\\n \\nthat\\n \\nfocuses\\n \\non\\n \\ncrypto\\n \\ncustody\\n \\nmanagement.\\n  \\n   While  at  Liminal,  I  got  the  opportunity  to  explore  the  evolving  role  of  blockchain  in  the  financial  sector.  \\nUnlike\\n \\ntraditional\\n \\ncurrencies\\n \\n,\\n \\ncrypto\\n \\nassets\\n \\nlike\\n \\nbitcoin\\n \\nare\\n \\nrooted\\n \\nin\\n \\nmathematics\\n \\nand\\n \\nalgorithmic\\n \\nprecision,\\n \\nand\\n \\ntheir\\n \\nintegration\\n \\ninto\\n \\ntraditional\\n \\nfinance\\n \\nsystems\\n \\nhas\\n \\nthe\\n \\npotential\\n \\nto\\n \\ndrive\\n \\nthe\\n \\nevolution\\n \\nof\\n \\nsecure\\n \\nand\\n \\naccessible\\n \\nfintech\\n \\nsolutions.\\n \\nThis\\n \\nrole\\n \\nmade\\n \\nme\\n \\ndeeply\\n \\nappreciate\\n \\nthe\\n \\nrole\\n \\nof\\n \\ncryptographic\\n \\ntechniques\\n \\nand\\n \\nsecurity\\n \\nframeworks\\n \\nin\\n \\nbuilding\\n \\nresilient\\n \\nfinancial\\n \\ntechnologies.\\n With  7  years  of  experience  blended  with  cryptography,  algorithms,  decentralized  systems,  system  \\ndesign,\\n \\nand\\n \\nas\\n \\na\\n \\nfirst\\n \\nstep\\n \\ntowards\\n \\nmy\\n \\nbig\\n \\nvision\\n \\nof\\n \\nenabling\\n \\nunderserved\\n \\npopulations\\n \\nwith\\n \\nglobal\\n \\nfinancial\\n \\naccess,\\n \\nI\\n \\nfounded\\n \\nCryptoKTM.\\n \\nWhile\\n \\nsecurity\\n \\nhas\\n \\nbeen\\n \\nmy\\n \\nmajor\\n \\nconcern\\n \\nas\\n \\nhaving\\n \\nsecurity\\n \\nbreaches\\n \\nsuch\\n \\nfintech\\n \\napplication\\n \\nclosely\\n \\nmonitored,\\n \\nI\\n \\naim\\n \\nto\\n \\nimplement\\n \\nadvanced\\n \\nAI/ML\\n \\nalgorithms\\n \\nto\\n \\nanticipate\\n \\nand\\n \\nmitigate\\n \\nsecurity\\n \\nbreaches\\n \\nbefore\\n \\nexecution.\\n \\nBy\\n \\nanalyzing\\n \\ntransaction\\n \\npatterns\\n \\nand\\n \", path=None, url=None, mimetype=None), image_resource=None, audio_resource=None, video_resource=None, text_template='{metadata_str}\\n\\n{content}'), Document(id_='aa42e58c-71a8-4d5d-bac1-1b286943f7bb', embedding=None, metadata={'page_label': '2', 'file_name': 'sop_temp.pdf', 'file_path': '/Users/parin/Documments_Local/work/ai-playground/ragLLm/Rag/pdfData/sop_temp.pdf', 'file_type': 'application/pdf', 'file_size': 49524, 'creation_date': '2025-03-14', 'last_modified_date': '2025-03-14'}, excluded_embed_metadata_keys=['file_name', 'file_type', 'file_size', 'creation_date', 'last_modified_date', 'last_accessed_date'], excluded_llm_metadata_keys=['file_name', 'file_type', 'file_size', 'creation_date', 'last_modified_date', 'last_accessed_date'], relationships={}, metadata_template='{key}: {value}', metadata_separator='\\n', text_resource=MediaResource(embeddings=None, data=None, text='user  behaviour  across  multiple  providers,  I  feel  that  anomalous  transactions  could  be  flagged  in  real  \\ntime,\\n \\npreventing\\n \\npotential\\n \\nexploits.\\n \\nThis\\n \\nignited\\n \\nmy\\n \\ninterest\\n \\nin\\n \\ndeveloping\\n \\npredictive\\n \\nmodels\\n \\ntrained\\n \\non\\n \\nlarge-scale\\n \\ntransaction\\n \\ndatasets\\n \\nto\\n \\ndetect\\n \\nand\\n \\nprevent\\n \\nsecurity\\n \\nthreats\\n \\nthat\\n \\nhas\\n \\nbeen\\n \\nswiping\\n \\nbillions\\n \\nof\\n \\ndollor\\n \\nfrom\\n \\nsuch\\n \\nfintech\\n \\napplications.\\n \\nI\\n \\nam\\n \\nlooking\\n \\nforward\\n \\nto\\n \\nexplore\\n \\nhow\\n \\nmachine\\n \\nlearning\\n \\ncan\\n \\nanalyze\\n \\nuser\\n \\nbehavior,\\n \\nidentify\\n \\nanomalies,\\n \\nand\\n \\nintroduce\\n \\nproactive\\n \\nsecurity\\n \\nmeasures,\\n \\nensuring\\n \\nfintech\\n \\napplications\\n \\nremain\\n \\nsafe\\n \\nand\\n \\nresilient\\n \\nagainst\\n \\nevolving\\n \\nthreats.\\n   ', path=None, url=None, mimetype=None), image_resource=None, audio_resource=None, video_resource=None, text_template='{metadata_str}\\n\\n{content}')]\n"
     ]
    }
   ],
   "source": [
    "os.environ['OPENAI_API_KEY']=os.getenv(\"OPENAI_API_KEY\")\n",
    "from llama_index.core import VectorStoreIndex, SimpleDirectoryReader\n",
    "\n",
    "documents = SimpleDirectoryReader(\"pdfData\").load_data()\n",
    "\n",
    "print(documents)\n",
    "\n"
   ]
  },
  {
   "cell_type": "code",
   "execution_count": null,
   "metadata": {},
   "outputs": [],
   "source": [
    "index = VectorStoreIndex.from_documents(documents)\n"
   ]
  },
  {
   "cell_type": "code",
   "execution_count": null,
   "metadata": {},
   "outputs": [
    {
     "data": {
      "text/plain": [
       "<llama_index.core.indices.vector_store.base.VectorStoreIndex at 0x1254e7430>"
      ]
     },
     "execution_count": 4,
     "metadata": {},
     "output_type": "execute_result"
    }
   ],
   "source": [
    "index"
   ]
  },
  {
   "cell_type": "code",
   "execution_count": null,
   "metadata": {},
   "outputs": [],
   "source": [
    "query_engine= index.as_query_engine()\n"
   ]
  },
  {
   "cell_type": "code",
   "execution_count": null,
   "metadata": {},
   "outputs": [
    {
     "data": {
      "text/plain": [
       "<llama_index.core.query_engine.retriever_query_engine.RetrieverQueryEngine at 0x127407f70>"
      ]
     },
     "execution_count": 13,
     "metadata": {},
     "output_type": "execute_result"
    }
   ],
   "source": [
    "query_engine"
   ]
  },
  {
   "cell_type": "code",
   "execution_count": null,
   "metadata": {},
   "outputs": [],
   "source": [
    "\n",
    "response=query_engine.query(\"what is parishilan likely to do in future? what is his interest\")\n"
   ]
  },
  {
   "cell_type": "code",
   "execution_count": null,
   "metadata": {},
   "outputs": [
    {
     "name": "stdout",
     "output_type": "stream",
     "text": [
      "Final Response: Parishilan is likely to continue working in the field\n",
      "of technology, specifically focusing on areas such as Blockchain &\n",
      "Cryptography, DeFi & Web3 Innovations, AI/ML, and Payment & FinTech\n",
      "Solutions.\n",
      "______________________________________________________________________\n",
      "Source Node 1/2\n",
      "Node ID: 3c279636-2ec7-4bb6-82a2-d6cce55aa09a\n",
      "Similarity: 0.7854362094302233\n",
      "Text: Parishilan  Rayamajhi   Kathmandu,  Nepal,   44600\n",
      "+977-9849336909    |   parishilanrayamajhi@gmail.com  |\n",
      "https://www.linkedin.com/in/parishilan-rayamajhi-321a83b6/\n",
      "Education  ______________________________________________________\n",
      "Visvesvaraya  National  Institute  of  Technology  ( NIT )\n",
      "...\n",
      "______________________________________________________________________\n",
      "Source Node 2/2\n",
      "Node ID: a322d918-4d53-4a2d-a3f0-5c8bbb29dce3\n",
      "Similarity: 0.767705864501179\n",
      "Text: PRESIDENT\n",
      "2016-2017  ●  Spearheaded  Club  operations,  organizing  musical\n",
      "events  and  talent  showcases.  ●  Led  a  team  of  7  musicians  to\n",
      "perform  at  college  fests  and  external  competitions.   TechFest:\n",
      "...\n"
     ]
    }
   ],
   "source": [
    "from llama_index.core.response.pprint_utils import pprint_response\n",
    "pprint_response(response, show_source=True)\n"
   ]
  },
  {
   "cell_type": "code",
   "execution_count": 5,
   "metadata": {},
   "outputs": [
    {
     "ename": "NameError",
     "evalue": "name 'index' is not defined",
     "output_type": "error",
     "traceback": [
      "\u001b[0;31m---------------------------------------------------------------------------\u001b[0m",
      "\u001b[0;31mNameError\u001b[0m                                 Traceback (most recent call last)",
      "Cell \u001b[0;32mIn[5], line 5\u001b[0m\n\u001b[1;32m      2\u001b[0m \u001b[38;5;28;01mfrom\u001b[39;00m\u001b[38;5;250m \u001b[39m\u001b[38;5;21;01mllama_index\u001b[39;00m\u001b[38;5;21;01m.\u001b[39;00m\u001b[38;5;21;01mcore\u001b[39;00m\u001b[38;5;21;01m.\u001b[39;00m\u001b[38;5;21;01mquery_engine\u001b[39;00m\u001b[38;5;250m \u001b[39m\u001b[38;5;28;01mimport\u001b[39;00m RetrieverQueryEngine\n\u001b[1;32m      3\u001b[0m \u001b[38;5;28;01mfrom\u001b[39;00m\u001b[38;5;250m \u001b[39m\u001b[38;5;21;01mllama_index\u001b[39;00m\u001b[38;5;21;01m.\u001b[39;00m\u001b[38;5;21;01mcore\u001b[39;00m\u001b[38;5;21;01m.\u001b[39;00m\u001b[38;5;21;01mpostprocessor\u001b[39;00m\u001b[38;5;250m \u001b[39m\u001b[38;5;28;01mimport\u001b[39;00m SimilarityPostprocessor\n\u001b[0;32m----> 5\u001b[0m retriver\u001b[38;5;241m=\u001b[39mVectorIndexRetriever(index\u001b[38;5;241m=\u001b[39m\u001b[43mindex\u001b[49m, similarity_top_k\u001b[38;5;241m=\u001b[39m\u001b[38;5;241m4\u001b[39m)\n\u001b[1;32m      6\u001b[0m postprocessor \u001b[38;5;241m=\u001b[39m SimilarityPostprocessor(similarity_cutoff\u001b[38;5;241m=\u001b[39m\u001b[38;5;241m0.70\u001b[39m)\n\u001b[1;32m      8\u001b[0m query_engine \u001b[38;5;241m=\u001b[39m RetrieverQueryEngine(retriver, \n\u001b[1;32m      9\u001b[0m                                     node_postprocessors\u001b[38;5;241m=\u001b[39m[postprocessor])\n",
      "\u001b[0;31mNameError\u001b[0m: name 'index' is not defined"
     ]
    }
   ],
   "source": [
    "from llama_index.core.retrievers import VectorIndexRetriever\n",
    "from llama_index.core.query_engine import RetrieverQueryEngine\n",
    "from llama_index.core.postprocessor import SimilarityPostprocessor\n",
    "\n",
    "retriver=VectorIndexRetriever(index=index, similarity_top_k=4)\n",
    "postprocessor = SimilarityPostprocessor(similarity_cutoff=0.70)\n",
    "\n",
    "query_engine = RetrieverQueryEngine(retriver, \n",
    "                                    node_postprocessors=[postprocessor])\n"
   ]
  },
  {
   "cell_type": "code",
   "execution_count": null,
   "metadata": {},
   "outputs": [
    {
     "name": "stdout",
     "output_type": "stream",
     "text": [
      "Final Response: Exploring how machine learning can analyze user\n",
      "behavior, identify anomalies, and introduce proactive security\n",
      "measures in fintech applications.\n",
      "______________________________________________________________________\n",
      "Source Node 1/4\n",
      "Node ID: e7385430-c806-4c7b-b650-35e231e0641b\n",
      "Similarity: 0.7543104164610098\n",
      "Text: Imagine  a  nation  where  the  absence  of  an  international\n",
      "payment  gateway  traps  its  people  in  a   financial\n",
      "paradox—relying   on   offshore   connections   to   buy   a   Udemy\n",
      "course,   book   a   GRE,   or   even   stream   Netflix.   This   is\n",
      "my   reality   in   Nepal,   an   underdeveloped   nation   with\n",
      "limited   inves...\n",
      "______________________________________________________________________\n",
      "Source Node 2/4\n",
      "Node ID: a322d918-4d53-4a2d-a3f0-5c8bbb29dce3\n",
      "Similarity: 0.7483278932497669\n",
      "Text: PRESIDENT\n",
      "2016-2017  ●  Spearheaded  Club  operations,  organizing  musical\n",
      "events  and  talent  showcases.  ●  Led  a  team  of  7  musicians  to\n",
      "perform  at  college  fests  and  external  competitions.   TechFest:\n",
      "...\n",
      "______________________________________________________________________\n",
      "Source Node 3/4\n",
      "Node ID: 9675abf8-4e15-495c-8026-523f8db3eccf\n",
      "Similarity: 0.7476699009767599\n",
      "Text: user  behaviour  across  multiple  providers,  I  feel  that\n",
      "anomalous  transactions  could  be  flagged  in  real   time,\n",
      "preventing   potential   exploits.   This   ignited   my   interest\n",
      "in   developing   predictive   models   trained   on   large-scale\n",
      "transaction   datasets   to   detect   and   prevent   security\n",
      "threats   that  ...\n",
      "______________________________________________________________________\n",
      "Source Node 4/4\n",
      "Node ID: 55f67261-d261-4b57-adfe-55805d361c6e\n",
      "Similarity: 0.7366476232653902\n",
      "Text: This   gave   me   insight   on   how   algorithms   driving\n",
      "these   systems   are   the   foundation   for   developing   any\n",
      "complex   technology   that   are   self   resilience.  With  a\n",
      "strong  interest  in  the  payments  domain,  I  was  eager  to\n",
      "understand  how  traditional  payment   systems   function.   This\n",
      "led   me   to   j...\n"
     ]
    }
   ],
   "source": [
    "from llama_index.core.response.pprint_utils import pprint_response\n",
    "\n",
    "response=query_engine.query(\"What is 1 interest he is likely to continuew further\")\n",
    "pprint_response(response, show_source=True)\n"
   ]
  },
  {
   "cell_type": "code",
   "execution_count": null,
   "metadata": {},
   "outputs": [
    {
     "name": "stdout",
     "output_type": "stream",
     "text": [
      "Today's date is not provided in the context information.\n"
     ]
    }
   ],
   "source": [
    "## storing index into disk and retriving query from there \n",
    "\n",
    "import os.path\n",
    "from llama_index.core import (\n",
    "    VectorStoreIndex, \n",
    "    SimpleDirectoryReader, \n",
    "    StorageContext,\n",
    "    load_index_from_storage\n",
    ")\n",
    "\n",
    "PERSIST_DIR = \"./storage\"\n",
    "if not os.path.exists(PERSIST_DIR):\n",
    "    documents = SimpleDirectoryReader(\"pdfData\").load_data()\n",
    "    index = VectorStoreIndex.from_documents(documents)\n",
    "    index.storage_context.persist(persist_dir=PERSIST_DIR)\n",
    "else:\n",
    "    storage_context = StorageContext.from_defaults(persist_dir=PERSIST_DIR)\n",
    "    index = load_index_from_storage(storage_context)\n",
    "\n",
    "query_engine = index.as_query_engine()\n",
    "response= query_engine.query(\"What is some major projects parishilan has done?\")\n",
    "print(response)"
   ]
  }
 ],
 "metadata": {
  "kernelspec": {
   "display_name": ".venv",
   "language": "python",
   "name": "python3"
  },
  "language_info": {
   "codemirror_mode": {
    "name": "ipython",
    "version": 3
   },
   "file_extension": ".py",
   "mimetype": "text/x-python",
   "name": "python",
   "nbconvert_exporter": "python",
   "pygments_lexer": "ipython3",
   "version": "3.10.14"
  }
 },
 "nbformat": 4,
 "nbformat_minor": 2
}
